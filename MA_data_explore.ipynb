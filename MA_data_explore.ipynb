{
 "cells": [
  {
   "cell_type": "code",
   "execution_count": 46,
   "metadata": {},
   "outputs": [
    {
     "data": {
      "text/html": [
       "<div>\n",
       "<style>\n",
       "    .dataframe thead tr:only-child th {\n",
       "        text-align: right;\n",
       "    }\n",
       "\n",
       "    .dataframe thead th {\n",
       "        text-align: left;\n",
       "    }\n",
       "\n",
       "    .dataframe tbody tr th {\n",
       "        vertical-align: top;\n",
       "    }\n",
       "</style>\n",
       "<table border=\"1\" class=\"dataframe\">\n",
       "  <thead>\n",
       "    <tr style=\"text-align: right;\">\n",
       "      <th></th>\n",
       "      <th>State_Name</th>\n",
       "      <th>County_Name</th>\n",
       "      <th>FIPSST</th>\n",
       "      <th>FIPSCNTY</th>\n",
       "      <th>FIPS</th>\n",
       "      <th>SSAST</th>\n",
       "      <th>SSACNTY</th>\n",
       "      <th>SSA</th>\n",
       "      <th>Eligibles</th>\n",
       "      <th>pop_Enrolled</th>\n",
       "      <th>pop_Penetration</th>\n",
       "    </tr>\n",
       "  </thead>\n",
       "  <tbody>\n",
       "    <tr>\n",
       "      <th>0</th>\n",
       "      <td>Alabama</td>\n",
       "      <td>Autauga</td>\n",
       "      <td>01</td>\n",
       "      <td>001</td>\n",
       "      <td>01001</td>\n",
       "      <td>01</td>\n",
       "      <td>000</td>\n",
       "      <td>01000</td>\n",
       "      <td>10792</td>\n",
       "      <td>4803.0</td>\n",
       "      <td>44.51%</td>\n",
       "    </tr>\n",
       "    <tr>\n",
       "      <th>1</th>\n",
       "      <td>Alabama</td>\n",
       "      <td>Baldwin</td>\n",
       "      <td>01</td>\n",
       "      <td>003</td>\n",
       "      <td>01003</td>\n",
       "      <td>01</td>\n",
       "      <td>010</td>\n",
       "      <td>01010</td>\n",
       "      <td>50168</td>\n",
       "      <td>21010.0</td>\n",
       "      <td>41.88%</td>\n",
       "    </tr>\n",
       "    <tr>\n",
       "      <th>2</th>\n",
       "      <td>Alabama</td>\n",
       "      <td>Barbour</td>\n",
       "      <td>01</td>\n",
       "      <td>005</td>\n",
       "      <td>01005</td>\n",
       "      <td>01</td>\n",
       "      <td>020</td>\n",
       "      <td>01020</td>\n",
       "      <td>6441</td>\n",
       "      <td>1909.0</td>\n",
       "      <td>29.64%</td>\n",
       "    </tr>\n",
       "    <tr>\n",
       "      <th>3</th>\n",
       "      <td>Alabama</td>\n",
       "      <td>Bibb</td>\n",
       "      <td>01</td>\n",
       "      <td>007</td>\n",
       "      <td>01007</td>\n",
       "      <td>01</td>\n",
       "      <td>030</td>\n",
       "      <td>01030</td>\n",
       "      <td>4954</td>\n",
       "      <td>2381.0</td>\n",
       "      <td>48.06%</td>\n",
       "    </tr>\n",
       "    <tr>\n",
       "      <th>4</th>\n",
       "      <td>Alabama</td>\n",
       "      <td>Blount</td>\n",
       "      <td>01</td>\n",
       "      <td>009</td>\n",
       "      <td>01009</td>\n",
       "      <td>01</td>\n",
       "      <td>040</td>\n",
       "      <td>01040</td>\n",
       "      <td>12564</td>\n",
       "      <td>6363.0</td>\n",
       "      <td>50.64%</td>\n",
       "    </tr>\n",
       "  </tbody>\n",
       "</table>\n",
       "</div>"
      ],
      "text/plain": [
       "  State_Name County_Name FIPSST FIPSCNTY   FIPS SSAST SSACNTY    SSA  \\\n",
       "0    Alabama     Autauga     01      001  01001    01     000  01000   \n",
       "1    Alabama     Baldwin     01      003  01003    01     010  01010   \n",
       "2    Alabama     Barbour     01      005  01005    01     020  01020   \n",
       "3    Alabama        Bibb     01      007  01007    01     030  01030   \n",
       "4    Alabama      Blount     01      009  01009    01     040  01040   \n",
       "\n",
       "   Eligibles  pop_Enrolled pop_Penetration  \n",
       "0      10792        4803.0          44.51%  \n",
       "1      50168       21010.0          41.88%  \n",
       "2       6441        1909.0          29.64%  \n",
       "3       4954        2381.0          48.06%  \n",
       "4      12564        6363.0          50.64%  "
      ]
     },
     "execution_count": 46,
     "metadata": {},
     "output_type": "execute_result"
    }
   ],
   "source": [
    "import pandas as pd\n",
    "import numpy as np\n",
    "import re\n",
    "import seaborn as sns\n",
    "import matplotlib.pyplot as plt\n",
    "%matplotlib inline\n",
    "\n",
    "#import market penetration data for December 2017.  Deal with thousands comma and * for null values\n",
    "#note: counties with less than 10 enrollees have * for enrollment\n",
    "#note: link to data: https://www.cms.gov/Research-Statistics-Data-and-Systems/Statistics-Trends-and-Reports/MCRAdvPartDEnrolData/MA-State-County-Penetration-Items/MA-State-County-Penetration-2017-12.html?DLPage=2&DLEntries=10&DLSort=1&DLSortDir=descending\n",
    "\n",
    "data_types = {'FIPSST': object, \n",
    "              'FIPSCNTY': object, \n",
    "              'FIPS': object, \n",
    "              'SSAST': object, \n",
    "              'SSACNTY': object, \n",
    "              'SSA': object\n",
    "             }\n",
    "\n",
    "pen_df = pd.read_csv('data/State-County-Penetration-MA-2017-12/State_County_Penetration_MA_2017_12.csv', \\\n",
    "                     dtype=data_types, thousands=r',', na_values=[\"*\"])\n",
    "\n",
    "#remove spaces from column names\n",
    "pen_df.columns = pen_df.columns.map(lambda x: x.replace(' ', '_') if isinstance(x, (str)) else x)\n",
    "\n",
    "#rename some columns to make clear\n",
    "pen_df.rename(columns={'Enrolled':'pop_Enrolled','Penetration':'pop_Penetration'}, inplace=True)\n",
    "pen_df.head()"
   ]
  },
  {
   "cell_type": "code",
   "execution_count": 47,
   "metadata": {},
   "outputs": [
    {
     "data": {
      "text/html": [
       "<div>\n",
       "<style>\n",
       "    .dataframe thead tr:only-child th {\n",
       "        text-align: right;\n",
       "    }\n",
       "\n",
       "    .dataframe thead th {\n",
       "        text-align: left;\n",
       "    }\n",
       "\n",
       "    .dataframe tbody tr th {\n",
       "        vertical-align: top;\n",
       "    }\n",
       "</style>\n",
       "<table border=\"1\" class=\"dataframe\">\n",
       "  <thead>\n",
       "    <tr style=\"text-align: right;\">\n",
       "      <th></th>\n",
       "      <th>FIPS</th>\n",
       "      <th>Eligibles</th>\n",
       "      <th>pop_Enrolled</th>\n",
       "      <th>pop_Penetration</th>\n",
       "    </tr>\n",
       "  </thead>\n",
       "  <tbody>\n",
       "    <tr>\n",
       "      <th>0</th>\n",
       "      <td>01001</td>\n",
       "      <td>10792</td>\n",
       "      <td>4803.0</td>\n",
       "      <td>0.445052</td>\n",
       "    </tr>\n",
       "    <tr>\n",
       "      <th>1</th>\n",
       "      <td>01003</td>\n",
       "      <td>50168</td>\n",
       "      <td>21010.0</td>\n",
       "      <td>0.418793</td>\n",
       "    </tr>\n",
       "    <tr>\n",
       "      <th>2</th>\n",
       "      <td>01005</td>\n",
       "      <td>6441</td>\n",
       "      <td>1909.0</td>\n",
       "      <td>0.296383</td>\n",
       "    </tr>\n",
       "    <tr>\n",
       "      <th>3</th>\n",
       "      <td>01007</td>\n",
       "      <td>4954</td>\n",
       "      <td>2381.0</td>\n",
       "      <td>0.480622</td>\n",
       "    </tr>\n",
       "    <tr>\n",
       "      <th>4</th>\n",
       "      <td>01009</td>\n",
       "      <td>12564</td>\n",
       "      <td>6363.0</td>\n",
       "      <td>0.506447</td>\n",
       "    </tr>\n",
       "  </tbody>\n",
       "</table>\n",
       "</div>"
      ],
      "text/plain": [
       "    FIPS  Eligibles  pop_Enrolled  pop_Penetration\n",
       "0  01001      10792        4803.0         0.445052\n",
       "1  01003      50168       21010.0         0.418793\n",
       "2  01005       6441        1909.0         0.296383\n",
       "3  01007       4954        2381.0         0.480622\n",
       "4  01009      12564        6363.0         0.506447"
      ]
     },
     "execution_count": 47,
     "metadata": {},
     "output_type": "execute_result"
    }
   ],
   "source": [
    "# prepping a subset of penetration data for analysis\n",
    "pen_df2 = pen_df[['FIPS','Eligibles','pop_Enrolled']].copy() #copy to prevent SettingWithCopyWarning\n",
    "\n",
    "#recalculate penetration rates\n",
    "pen_df2['pop_Penetration'] = pen_df2['pop_Enrolled'] / pen_df2['Eligibles']\n",
    "pen_df2.head()\n",
    "\n"
   ]
  },
  {
   "cell_type": "code",
   "execution_count": 42,
   "metadata": {},
   "outputs": [
    {
     "data": {
      "text/html": [
       "<div>\n",
       "<style>\n",
       "    .dataframe thead tr:only-child th {\n",
       "        text-align: right;\n",
       "    }\n",
       "\n",
       "    .dataframe thead th {\n",
       "        text-align: left;\n",
       "    }\n",
       "\n",
       "    .dataframe tbody tr th {\n",
       "        vertical-align: top;\n",
       "    }\n",
       "</style>\n",
       "<table border=\"1\" class=\"dataframe\">\n",
       "  <thead>\n",
       "    <tr style=\"text-align: right;\">\n",
       "      <th></th>\n",
       "      <th>County</th>\n",
       "      <th>State</th>\n",
       "      <th>Contract_ID</th>\n",
       "      <th>Organization_Name</th>\n",
       "      <th>Organization_Type</th>\n",
       "      <th>Plan_Type</th>\n",
       "      <th>SSA_Code</th>\n",
       "      <th>FIPS_Code</th>\n",
       "      <th>plan_Enrolled</th>\n",
       "    </tr>\n",
       "  </thead>\n",
       "  <tbody>\n",
       "    <tr>\n",
       "      <th>0</th>\n",
       "      <td>Autauga</td>\n",
       "      <td>AL</td>\n",
       "      <td>H0104</td>\n",
       "      <td>BLUE CROSS AND BLUE SHIELD OF ALABAMA</td>\n",
       "      <td>Local CCP</td>\n",
       "      <td>Local PPO</td>\n",
       "      <td>01000</td>\n",
       "      <td>01001</td>\n",
       "      <td>1062.0</td>\n",
       "    </tr>\n",
       "    <tr>\n",
       "      <th>1</th>\n",
       "      <td>Autauga</td>\n",
       "      <td>AL</td>\n",
       "      <td>H0107</td>\n",
       "      <td>HEALTH CARE SERVICE CORPORATION</td>\n",
       "      <td>Local CCP</td>\n",
       "      <td>Local PPO</td>\n",
       "      <td>01000</td>\n",
       "      <td>01001</td>\n",
       "      <td>NaN</td>\n",
       "    </tr>\n",
       "    <tr>\n",
       "      <th>2</th>\n",
       "      <td>Autauga</td>\n",
       "      <td>AL</td>\n",
       "      <td>H0150</td>\n",
       "      <td>HEALTHSPRING OF ALABAMA, INC.</td>\n",
       "      <td>Local CCP</td>\n",
       "      <td>HMO/HMOPOS</td>\n",
       "      <td>01000</td>\n",
       "      <td>01001</td>\n",
       "      <td>565.0</td>\n",
       "    </tr>\n",
       "    <tr>\n",
       "      <th>3</th>\n",
       "      <td>Autauga</td>\n",
       "      <td>AL</td>\n",
       "      <td>H0154</td>\n",
       "      <td>VIVA HEALTH, INC.</td>\n",
       "      <td>Local CCP</td>\n",
       "      <td>HMO/HMOPOS</td>\n",
       "      <td>01000</td>\n",
       "      <td>01001</td>\n",
       "      <td>1452.0</td>\n",
       "    </tr>\n",
       "    <tr>\n",
       "      <th>4</th>\n",
       "      <td>Autauga</td>\n",
       "      <td>AL</td>\n",
       "      <td>H0504</td>\n",
       "      <td>CALIFORNIA PHYSICIANS' SERVICE</td>\n",
       "      <td>Local CCP</td>\n",
       "      <td>HMO/HMOPOS</td>\n",
       "      <td>01000</td>\n",
       "      <td>01001</td>\n",
       "      <td>NaN</td>\n",
       "    </tr>\n",
       "  </tbody>\n",
       "</table>\n",
       "</div>"
      ],
      "text/plain": [
       "    County State Contract_ID                      Organization_Name  \\\n",
       "0  Autauga    AL       H0104  BLUE CROSS AND BLUE SHIELD OF ALABAMA   \n",
       "1  Autauga    AL       H0107        HEALTH CARE SERVICE CORPORATION   \n",
       "2  Autauga    AL       H0150          HEALTHSPRING OF ALABAMA, INC.   \n",
       "3  Autauga    AL       H0154                      VIVA HEALTH, INC.   \n",
       "4  Autauga    AL       H0504         CALIFORNIA PHYSICIANS' SERVICE   \n",
       "\n",
       "  Organization_Type   Plan_Type SSA_Code FIPS_Code  plan_Enrolled  \n",
       "0         Local CCP   Local PPO    01000     01001         1062.0  \n",
       "1         Local CCP   Local PPO    01000     01001            NaN  \n",
       "2         Local CCP  HMO/HMOPOS    01000     01001          565.0  \n",
       "3         Local CCP  HMO/HMOPOS    01000     01001         1452.0  \n",
       "4         Local CCP  HMO/HMOPOS    01000     01001            NaN  "
      ]
     },
     "execution_count": 42,
     "metadata": {},
     "output_type": "execute_result"
    }
   ],
   "source": [
    "# loading and cleaning MA plan enrollemnt realted data (December 2017)\n",
    "#note: link to data: https://www.cms.gov/Research-Statistics-Data-and-Systems/Statistics-Trends-and-Reports/MCRAdvPartDEnrolData/Monthly-MA-Enrollment-by-State-County-Contract-Items/MA-Enrollment-by-SCC-2017-12-new.html?DLPage=2&DLEntries=10&DLSort=1&DLSortDir=descending\n",
    "data_types = {\n",
    "              'FIPS Code': object,\n",
    "              'SSA Code': object\n",
    "             }\n",
    "\n",
    "#import market penetration data for December 2017.  Deal with thousands comma and * for null values\n",
    "#note: plans with less than 10 enrollees in a county have * for enrollment\n",
    "plan = pd.read_csv('data/SCC-Enrollment-MA-2017-12/SCC_Enrollment_MA_2017_12.csv', \\\n",
    "                     dtype=data_types, thousands=r',', na_values=[\"*\"])\n",
    "\n",
    "cols = plan.columns\n",
    "cols = cols.map(lambda x: x.replace(' ', '_') if isinstance(x, (str)) else x)\n",
    "plan.columns = cols\n",
    "plan.rename(columns={'Enrolled':'plan_Enrolled'}, inplace=True)\n",
    "plan.head()\n"
   ]
  },
  {
   "cell_type": "code",
   "execution_count": 70,
   "metadata": {},
   "outputs": [
    {
     "data": {
      "text/plain": [
       "Organization_Name\n",
       "VIVA HEALTH, INC.                                 1452.0\n",
       "BLUE CROSS AND BLUE SHIELD OF ALABAMA             1062.0\n",
       "UNITEDHEALTHCARE OF THE MIDLANDS, INC.             864.0\n",
       "HEALTHSPRING OF ALABAMA, INC.                      565.0\n",
       "SIERRA HEALTH AND LIFE INSURANCE COMPANY, INC.     554.0\n",
       "HUMANA INSURANCE COMPANY                           268.0\n",
       "AETNA LIFE INSURANCE COMPANY                        15.0\n",
       "BCBS OF MICHIGAN MUTUAL INSURANCE COMPANY           13.0\n",
       "Name: plan_Enrolled, dtype: float64"
      ]
     },
     "execution_count": 70,
     "metadata": {},
     "output_type": "execute_result"
    }
   ],
   "source": [
    "#grouping of contracts for one county by org name.  \n",
    "plan[(plan['FIPS_Code'] == '01001') & (plan['plan_Enrolled'] > 0)].groupby('Organization_Name')['plan_Enrolled'].sum().sort_values(ascending=False)\n",
    "\n"
   ]
  },
  {
   "cell_type": "code",
   "execution_count": 44,
   "metadata": {},
   "outputs": [],
   "source": [
    "# Note any plans with fewer than 10 enrollees in a county had the data redacted for privacy purposes.  For this reason\n",
    "# we have NaN values for certain plan/ county pairs.  We may choose to fill these with 0 to aid analysis.  This should\n",
    "# be noted as an assumption.\n",
    "plan = plan.fillna(0)\n"
   ]
  },
  {
   "cell_type": "code",
   "execution_count": 48,
   "metadata": {},
   "outputs": [
    {
     "data": {
      "text/html": [
       "<div>\n",
       "<style>\n",
       "    .dataframe thead tr:only-child th {\n",
       "        text-align: right;\n",
       "    }\n",
       "\n",
       "    .dataframe thead th {\n",
       "        text-align: left;\n",
       "    }\n",
       "\n",
       "    .dataframe tbody tr th {\n",
       "        vertical-align: top;\n",
       "    }\n",
       "</style>\n",
       "<table border=\"1\" class=\"dataframe\">\n",
       "  <thead>\n",
       "    <tr style=\"text-align: right;\">\n",
       "      <th></th>\n",
       "      <th>County</th>\n",
       "      <th>State</th>\n",
       "      <th>Contract_ID</th>\n",
       "      <th>Organization_Name</th>\n",
       "      <th>Organization_Type</th>\n",
       "      <th>Plan_Type</th>\n",
       "      <th>SSA_Code</th>\n",
       "      <th>FIPS_Code</th>\n",
       "      <th>plan_Enrolled</th>\n",
       "      <th>FIPS</th>\n",
       "      <th>Eligibles</th>\n",
       "      <th>pop_Enrolled</th>\n",
       "      <th>pop_Penetration</th>\n",
       "    </tr>\n",
       "  </thead>\n",
       "  <tbody>\n",
       "    <tr>\n",
       "      <th>0</th>\n",
       "      <td>Autauga</td>\n",
       "      <td>AL</td>\n",
       "      <td>H0104</td>\n",
       "      <td>BLUE CROSS AND BLUE SHIELD OF ALABAMA</td>\n",
       "      <td>Local CCP</td>\n",
       "      <td>Local PPO</td>\n",
       "      <td>01000</td>\n",
       "      <td>01001</td>\n",
       "      <td>1062.0</td>\n",
       "      <td>01001</td>\n",
       "      <td>10792.0</td>\n",
       "      <td>4803.0</td>\n",
       "      <td>0.445052</td>\n",
       "    </tr>\n",
       "    <tr>\n",
       "      <th>1</th>\n",
       "      <td>Autauga</td>\n",
       "      <td>AL</td>\n",
       "      <td>H0107</td>\n",
       "      <td>HEALTH CARE SERVICE CORPORATION</td>\n",
       "      <td>Local CCP</td>\n",
       "      <td>Local PPO</td>\n",
       "      <td>01000</td>\n",
       "      <td>01001</td>\n",
       "      <td>0.0</td>\n",
       "      <td>01001</td>\n",
       "      <td>10792.0</td>\n",
       "      <td>4803.0</td>\n",
       "      <td>0.445052</td>\n",
       "    </tr>\n",
       "    <tr>\n",
       "      <th>2</th>\n",
       "      <td>Autauga</td>\n",
       "      <td>AL</td>\n",
       "      <td>H0150</td>\n",
       "      <td>HEALTHSPRING OF ALABAMA, INC.</td>\n",
       "      <td>Local CCP</td>\n",
       "      <td>HMO/HMOPOS</td>\n",
       "      <td>01000</td>\n",
       "      <td>01001</td>\n",
       "      <td>565.0</td>\n",
       "      <td>01001</td>\n",
       "      <td>10792.0</td>\n",
       "      <td>4803.0</td>\n",
       "      <td>0.445052</td>\n",
       "    </tr>\n",
       "    <tr>\n",
       "      <th>3</th>\n",
       "      <td>Autauga</td>\n",
       "      <td>AL</td>\n",
       "      <td>H0154</td>\n",
       "      <td>VIVA HEALTH, INC.</td>\n",
       "      <td>Local CCP</td>\n",
       "      <td>HMO/HMOPOS</td>\n",
       "      <td>01000</td>\n",
       "      <td>01001</td>\n",
       "      <td>1452.0</td>\n",
       "      <td>01001</td>\n",
       "      <td>10792.0</td>\n",
       "      <td>4803.0</td>\n",
       "      <td>0.445052</td>\n",
       "    </tr>\n",
       "    <tr>\n",
       "      <th>4</th>\n",
       "      <td>Autauga</td>\n",
       "      <td>AL</td>\n",
       "      <td>H0504</td>\n",
       "      <td>CALIFORNIA PHYSICIANS' SERVICE</td>\n",
       "      <td>Local CCP</td>\n",
       "      <td>HMO/HMOPOS</td>\n",
       "      <td>01000</td>\n",
       "      <td>01001</td>\n",
       "      <td>0.0</td>\n",
       "      <td>01001</td>\n",
       "      <td>10792.0</td>\n",
       "      <td>4803.0</td>\n",
       "      <td>0.445052</td>\n",
       "    </tr>\n",
       "  </tbody>\n",
       "</table>\n",
       "</div>"
      ],
      "text/plain": [
       "    County State Contract_ID                      Organization_Name  \\\n",
       "0  Autauga    AL       H0104  BLUE CROSS AND BLUE SHIELD OF ALABAMA   \n",
       "1  Autauga    AL       H0107        HEALTH CARE SERVICE CORPORATION   \n",
       "2  Autauga    AL       H0150          HEALTHSPRING OF ALABAMA, INC.   \n",
       "3  Autauga    AL       H0154                      VIVA HEALTH, INC.   \n",
       "4  Autauga    AL       H0504         CALIFORNIA PHYSICIANS' SERVICE   \n",
       "\n",
       "  Organization_Type   Plan_Type SSA_Code FIPS_Code  plan_Enrolled   FIPS  \\\n",
       "0         Local CCP   Local PPO    01000     01001         1062.0  01001   \n",
       "1         Local CCP   Local PPO    01000     01001            0.0  01001   \n",
       "2         Local CCP  HMO/HMOPOS    01000     01001          565.0  01001   \n",
       "3         Local CCP  HMO/HMOPOS    01000     01001         1452.0  01001   \n",
       "4         Local CCP  HMO/HMOPOS    01000     01001            0.0  01001   \n",
       "\n",
       "   Eligibles  pop_Enrolled  pop_Penetration  \n",
       "0    10792.0        4803.0         0.445052  \n",
       "1    10792.0        4803.0         0.445052  \n",
       "2    10792.0        4803.0         0.445052  \n",
       "3    10792.0        4803.0         0.445052  \n",
       "4    10792.0        4803.0         0.445052  "
      ]
     },
     "execution_count": 48,
     "metadata": {},
     "output_type": "execute_result"
    }
   ],
   "source": [
    "# merging two datasets\n",
    "plan_pen_merge = pd.merge(plan, pen_df2, how=\"left\", left_on='FIPS_Code', right_on='FIPS')\n",
    "plan_pen_merge.head()"
   ]
  },
  {
   "cell_type": "code",
   "execution_count": 49,
   "metadata": {},
   "outputs": [
    {
     "data": {
      "text/plain": [
       "FIPS_Code  pop_Enrolled\n",
       "01001      4803.0           4793.0\n",
       "01003      21010.0         20920.0\n",
       "01005      1909.0           1894.0\n",
       "01007      2381.0           2361.0\n",
       "01009      6363.0           6347.0\n",
       "01011      726.0             695.0\n",
       "01013      1014.0            994.0\n",
       "01015      6950.0           6908.0\n",
       "01017      2243.0           2211.0\n",
       "01019      2273.0           2262.0\n",
       "01021      5082.0           5070.0\n",
       "01023      676.0             657.0\n",
       "01025      2440.0           2426.0\n",
       "01027      907.0             888.0\n",
       "01029      713.0             688.0\n",
       "01031      2013.0           1999.0\n",
       "01033      3147.0           3131.0\n",
       "01035      781.0             772.0\n",
       "01037      631.0             621.0\n",
       "01039      1824.0           1790.0\n",
       "01041      1237.0           1220.0\n",
       "01043      6668.0           6647.0\n",
       "01045      1892.0           1880.0\n",
       "01047      3124.0           3096.0\n",
       "01049      4332.0           4303.0\n",
       "01051      6474.0           6449.0\n",
       "01053      2829.0           2806.0\n",
       "01055      9523.0           9504.0\n",
       "01057      1190.0           1182.0\n",
       "01059      1227.0           1222.0\n",
       "                            ...   \n",
       "72099      6194.0           6175.0\n",
       "72101      4818.0           4810.0\n",
       "72103      4128.0           4093.0\n",
       "72105      4937.0           4922.0\n",
       "72107      3737.0           3724.0\n",
       "72109      3728.0           3712.0\n",
       "72111      3457.0           3445.0\n",
       "72113      25643.0         25604.0\n",
       "72115      4721.0           4707.0\n",
       "72117      2858.0           2850.0\n",
       "72119      4697.0           4675.0\n",
       "72121      4597.0           4582.0\n",
       "72123      4452.0           4426.0\n",
       "72125      5883.0           5874.0\n",
       "72127      52707.0         52624.0\n",
       "72129      6701.0           6669.0\n",
       "72131      8371.0           8338.0\n",
       "72133      3125.0           3103.0\n",
       "72135      8421.0           8404.0\n",
       "72137      12970.0         12933.0\n",
       "72139      8225.0           8211.0\n",
       "72141      4997.0           4984.0\n",
       "72143      7820.0           7790.0\n",
       "72145      8469.0           8435.0\n",
       "72147      1110.0           1085.0\n",
       "72149      3482.0           3473.0\n",
       "72151      7190.0           7170.0\n",
       "72153      6731.0           6702.0\n",
       "78010      65.0               11.0\n",
       "78020      43.0                0.0\n",
       "Name: plan_Enrolled, Length: 3128, dtype: float64"
      ]
     },
     "execution_count": 49,
     "metadata": {},
     "output_type": "execute_result"
    }
   ],
   "source": [
    "plan_pen_merge.groupby(['FIPS_Code', 'pop_Enrolled'])['plan_Enrolled'].sum()"
   ]
  },
  {
   "cell_type": "code",
   "execution_count": 42,
   "metadata": {},
   "outputs": [
    {
     "data": {
      "text/plain": [
       "Local CCP           323265\n",
       "PFFS                  8194\n",
       "Regional CCP          4588\n",
       "Demo                  4489\n",
       "HCPP - 1833 Cost      3984\n",
       "1876 Cost             1768\n",
       "National PACE         1070\n",
       "MSA                    204\n",
       "Name: Organization_Type, dtype: int64"
      ]
     },
     "execution_count": 42,
     "metadata": {},
     "output_type": "execute_result"
    }
   ],
   "source": [
    "#as you can see, some of the plan statistics are NaN and missing the the summary below.\n",
    "plan_pen_merge['Organization_Type'].value_counts()"
   ]
  },
  {
   "cell_type": "code",
   "execution_count": 33,
   "metadata": {},
   "outputs": [
    {
     "data": {
      "text/plain": [
       "State  FIPS_Code\n",
       "AK     0            189\n",
       "       02230         93\n",
       "       02270         93\n",
       "AS     60050         50\n",
       "       60010         40\n",
       "       60020         40\n",
       "       60040          8\n",
       "GU     66010        520\n",
       "HI     15005         95\n",
       "MP     69085         12\n",
       "SD     46113         95\n",
       "VA     51560          1\n",
       "       51780          1\n",
       "Name: FIPS_Code, dtype: int64"
      ]
     },
     "execution_count": 33,
     "metadata": {},
     "output_type": "execute_result"
    }
   ],
   "source": [
    "#Below are the counties with NaN values for the FIPS variable.  These seem to be US territories not states,\n",
    "# so shouldn't impact analysis.\n",
    "plan_pen_merge[plan_pen_merge['FIPS'].isnull()].groupby('State')['FIPS_Code'].value_counts()"
   ]
  },
  {
   "cell_type": "code",
   "execution_count": 34,
   "metadata": {
    "collapsed": true
   },
   "outputs": [],
   "source": [
    "# add new vaiables for plan market share and penetration\n",
    "plan_pen_merge['plan_penetration'] = plan_pen_merge.plan_Enrolled / plan_pen_merge.Eligibles\n",
    "plan_pen_merge['plan_mkt_share'] = plan_pen_merge.plan_Enrolled / plan_pen_merge.pop_Enrolled\n"
   ]
  },
  {
   "cell_type": "code",
   "execution_count": 37,
   "metadata": {},
   "outputs": [
    {
     "data": {
      "text/plain": [
       "<matplotlib.axes._subplots.AxesSubplot at 0x1226fa358>"
      ]
     },
     "execution_count": 37,
     "metadata": {},
     "output_type": "execute_result"
    },
    {
     "data": {
      "image/png": "[encoded data removed]",
      "text/plain": [
       "<matplotlib.figure.Figure at 0x11fc72940>"
      ]
     },
     "metadata": {},
     "output_type": "display_data"
    }
   ],
   "source": [
    "plan_pen_merge.groupby('State')['plan_Enrolled'].sum().plot.hist(bins=50)"
   ]
  },
  {
   "cell_type": "code",
   "execution_count": 77,
   "metadata": {},
   "outputs": [
    {
     "data": {
      "image/png": "[encoded data removed]",
      "text/plain": [
       "<matplotlib.figure.Figure at 0x1a52751630>"
      ]
     },
     "metadata": {},
     "output_type": "display_data"
    }
   ],
   "source": [
    "#Linear regression with marginal distributions\n",
    "g = sns.jointplot(\"plan_Enrolled\", \"plan_mkt_share\", data=plan_pen_merge, kind=\"reg\", ratio=3, color=\"r\")"
   ]
  },
  {
   "cell_type": "code",
   "execution_count": 38,
   "metadata": {
    "collapsed": true
   },
   "outputs": [],
   "source": [
    "# Assigning numerical and categorical variables for analysis and visualization\n",
    "numerical =['pop_Enrolled', 'pop_Enrolled','pop_Penetration', 'plan_penetration', 'plan_mkt_share' ]\n",
    "categorical = ['County', 'State','Organization_Name', 'Organization_Type', 'Plan_Type', 'SSA_Code', 'FIPS_Code' ]\n"
   ]
  },
  {
   "cell_type": "code",
   "execution_count": 39,
   "metadata": {},
   "outputs": [
    {
     "data": {
      "text/plain": [
       "<matplotlib.axes._subplots.AxesSubplot at 0x1216cbc88>"
      ]
     },
     "execution_count": 39,
     "metadata": {},
     "output_type": "execute_result"
    },
    {
     "data": {
      "image/png": "[encoded data removed]",
      "text/plain": [
       "<matplotlib.figure.Figure at 0x1227acfd0>"
      ]
     },
     "metadata": {},
     "output_type": "display_data"
    }
   ],
   "source": [
    "sorted_nb = plan_pen_merge.groupby(['State'])['plan_Enrolled'].sum().sort_values()\n",
    "sns.boxplot(x=plan_pen_merge['State'], y=plan_pen_merge['plan_Enrolled'], order=list(sorted_nb.index))"
   ]
  },
  {
   "cell_type": "code",
   "execution_count": 41,
   "metadata": {},
   "outputs": [
    {
     "data": {
      "text/plain": [
       "<matplotlib.axes._subplots.AxesSubplot at 0x1227864a8>"
      ]
     },
     "execution_count": 41,
     "metadata": {},
     "output_type": "execute_result"
    },
    {
     "data": {
      "image/png": "[encoded data removed]",
      "text/plain": [
       "<matplotlib.figure.Figure at 0x1227acf60>"
      ]
     },
     "metadata": {},
     "output_type": "display_data"
    }
   ],
   "source": [
    "#Simple plot of correlation between variables\n",
    "\n",
    "plt.figure(figsize=(15,8))\n",
    "sns.heatmap(plan_pen_merge.corr(),cmap=sns.cubehelix_palette(8), annot=True)"
   ]
  },
  {
   "cell_type": "code",
   "execution_count": 44,
   "metadata": {},
   "outputs": [
    {
     "data": {
      "image/png": "[encoded data removed]",
      "text/plain": [
       "<matplotlib.figure.Figure at 0x1213c6f98>"
      ]
     },
     "metadata": {},
     "output_type": "display_data"
    }
   ],
   "source": [
    "samp = plan_pen_merge.sample(frac=1.0).groupby(['Plan_Type']).head(100)\n",
    "\n",
    "plt.figure(figsize=(26,10))\n",
    "g = sns.swarmplot(x='Organization_Type', y='plan_Enrolled', \n",
    "                  data=samp, size=12)\n",
    "\n",
    "g.tick_params(labelsize=15, )"
   ]
  },
  {
   "cell_type": "code",
   "execution_count": 64,
   "metadata": {},
   "outputs": [
    {
     "data": {
      "text/plain": [
       "FIPS   Organization_Name                                 \n",
       "01001  ANTHEM INSURANCE COMPANIES, INC.                      4\n",
       "       AETNA HEALTH INC. (PA)                                3\n",
       "       HUMANA INSURANCE COMPANY                              3\n",
       "       AMERICAN PROGRESSIVE LIFE & HLTH INS COMPANY OF NY    2\n",
       "       BCBS OF MICHIGAN MUTUAL INSURANCE COMPANY             2\n",
       "       CARE N' CARE INSURANCE COMPANY, INC.                  2\n",
       "       HEALTH ALLIANCE - MIDWEST, INC.                       2\n",
       "       HEALTH CARE SERVICE CORPORATION                       2\n",
       "       HORIZON INSURANCE COMPANY                             2\n",
       "       MARTIN'S POINT GENERATIONS ADVANTAGE, INC.            2\n",
       "       PRIORITY HEALTH                                       2\n",
       "       SIERRA HEALTH AND LIFE INSURANCE COMPANY, INC.        2\n",
       "       UNITEDHEALTHCARE INSURANCE COMPANY                    2\n",
       "       AETNA HEALTH INC. (CT)                                1\n",
       "       AETNA HEALTH INC. (FL)                                1\n",
       "       AETNA HEALTH INC. (GA)                                1\n",
       "       AETNA HEALTH INC. (ME)                                1\n",
       "       AETNA HEALTH INC. (NJ)                                1\n",
       "       AETNA HEALTH INC. (NY)                                1\n",
       "       AETNA HEALTH INC. (TX)                                1\n",
       "       AETNA HEALTH INC.(GA)                                 1\n",
       "       AETNA HEALTH OF CALIFORNIA INC.                       1\n",
       "       AETNA HEALTH OF UTAH, INC                             1\n",
       "       AETNA HEALTH, INC. (LA)                               1\n",
       "       AETNA LIFE INSURANCE COMPANY                          1\n",
       "       ANTHEM BLUE CROSS LIFE AND HEALTH INS COMPANY         1\n",
       "       ANTHEM HEALTH PLANS OF KENTUCKY, INC.                 1\n",
       "       ANTHEM HEALTH PLANS OF MAINE, INC.                    1\n",
       "       ANTHEM HEALTH PLANS OF NEW HAMPSHIRE, INC.            1\n",
       "       ANTHEM HEALTH PLANS, INC.                             1\n",
       "                                                            ..\n",
       "       HEALTH ALLIANCE PLAN OF MICHIGAN                      1\n",
       "       HEALTH NEW ENGLAND, INC.                              1\n",
       "       HEALTH PLAN OF THE UPPER OHIO VALLEY                  1\n",
       "       HEALTHASSURANCE PENNSYLVANIA, INC.                    1\n",
       "       HEALTHFIRST HEALTH PLAN, INC.                         1\n",
       "       HEALTHNOW NEW YORK INC.                               1\n",
       "       HEALTHSPRING LIFE & HEALTH INSURANCE COMPANY, INC.    1\n",
       "       HEALTHSPRING OF ALABAMA, INC.                         1\n",
       "       HIGHMARK SENIOR HEALTH COMPANY                        1\n",
       "       HIGHMARK SENIOR SOLUTIONS COMPANY                     1\n",
       "       HUMANA EMPLOYERS HEALTH PLAN OF GEORGIA, INC.         1\n",
       "       INDEPENDENT HEALTH ASSOCIATION, INC.                  1\n",
       "       INDEPENDENT HEALTH BENEFITS CORPORATION               1\n",
       "       KAISER FOUNDATION HP, INC.                            1\n",
       "       KEYSTONE HEALTH PLAN CENTRAL, INC.                    1\n",
       "       MVP HEALTH PLAN, INC.                                 1\n",
       "       PEOPLES HEALTH, INC.                                  1\n",
       "       QCC INSURANCE COMPANY                                 1\n",
       "       REGENCE BLUECROSS BLUESHIELD OF OREGON                1\n",
       "       REGENCE BLUECROSS BLUESHIELD OF UTAH                  1\n",
       "       REGENCE BLUESHIELD                                    1\n",
       "       REGENCE BLUESHIELD OF IDAHO                           1\n",
       "       SUMMACARE INC.                                        1\n",
       "       THP INSURANCE COMPANY                                 1\n",
       "       TRIPLE S ADVANTAGE, INC.                              1\n",
       "       UNITEDHEALTHCARE INSURANCE COMPANY OF NEW YORK        1\n",
       "       UNITEDHEALTHCARE OF THE MIDLANDS, INC.                1\n",
       "       UPMC HEALTH NETWORK, INC.                             1\n",
       "       UPMC HEALTH PLAN, INC.                                1\n",
       "       VIVA HEALTH, INC.                                     1\n",
       "Name: Organization_Name, Length: 83, dtype: int64"
      ]
     },
     "execution_count": 64,
     "metadata": {},
     "output_type": "execute_result"
    }
   ],
   "source": [
    "#count of unique plans in each county, by county.\n",
    "p_co = plan_pen_merge[['County', 'State', 'Contract_ID','Organization_Name','FIPS']]\n",
    "p_co[p_co['FIPS'] == '01001'].groupby('FIPS')[\"Organization_Name\"].value_counts()\n",
    "\n",
    "# plan_pen_merge.groupby(\"Organization_Name\")\n",
    "# plan_pen_merge.groupby('FIPS').nunique('Contract_ID')"
   ]
  },
  {
   "cell_type": "code",
   "execution_count": 17,
   "metadata": {},
   "outputs": [
    {
     "ename": "ImportError",
     "evalue": "geopandas, pyshp and shapely must be installed for this figure factory.\n\nRun the following commands to install the correct versions of the following modules:\n\n```\npip install geopandas==0.3.0\npip install pyshp==1.2.10\npip install shapely==1.6.3\n```\nIf you are using Windows, follow this post to properly install geopandas and dependencies:http://geoffboeing.com/2014/09/using-geopandas-windows/\n\nIf you are using Anaconda, do not use PIP to install the packages above. Instead use conda to install them:\n\n```\nconda install plotly\nconda install geopandas\n```",
     "output_type": "error",
     "traceback": [
      "\u001b[0;31m---------------------------------------------------------------------------\u001b[0m",
      "\u001b[0;31mImportError\u001b[0m                               Traceback (most recent call last)",
      "\u001b[0;32m<ipython-input-17-38409c0e3747>\u001b[0m in \u001b[0;36m<module>\u001b[0;34m()\u001b[0m\n\u001b[1;32m      8\u001b[0m \u001b[0mvalues\u001b[0m \u001b[0;34m=\u001b[0m \u001b[0mrange\u001b[0m\u001b[0;34m(\u001b[0m\u001b[0mlen\u001b[0m\u001b[0;34m(\u001b[0m\u001b[0mfips\u001b[0m\u001b[0;34m)\u001b[0m\u001b[0;34m)\u001b[0m\u001b[0;34m\u001b[0m\u001b[0;34m\u001b[0m\u001b[0m\n\u001b[1;32m      9\u001b[0m \u001b[0;34m\u001b[0m\u001b[0m\n\u001b[0;32m---> 10\u001b[0;31m \u001b[0mfig\u001b[0m \u001b[0;34m=\u001b[0m \u001b[0mff\u001b[0m\u001b[0;34m.\u001b[0m\u001b[0mcreate_choropleth\u001b[0m\u001b[0;34m(\u001b[0m\u001b[0mfips\u001b[0m\u001b[0;34m=\u001b[0m\u001b[0mfips\u001b[0m\u001b[0;34m,\u001b[0m \u001b[0mvalues\u001b[0m\u001b[0;34m=\u001b[0m\u001b[0mvalues\u001b[0m\u001b[0;34m)\u001b[0m\u001b[0;34m\u001b[0m\u001b[0;34m\u001b[0m\u001b[0m\n\u001b[0m\u001b[1;32m     11\u001b[0m \u001b[0mpy\u001b[0m\u001b[0;34m.\u001b[0m\u001b[0miplot\u001b[0m\u001b[0;34m(\u001b[0m\u001b[0mfig\u001b[0m\u001b[0;34m,\u001b[0m \u001b[0mfilename\u001b[0m\u001b[0;34m=\u001b[0m\u001b[0;34m'choropleth of some cali counties - full usa scope'\u001b[0m\u001b[0;34m)\u001b[0m\u001b[0;34m\u001b[0m\u001b[0;34m\u001b[0m\u001b[0m\n",
      "\u001b[0;32m~/anaconda3/lib/python3.6/site-packages/plotly/figure_factory/_county_choropleth.py\u001b[0m in \u001b[0;36mcreate_choropleth\u001b[0;34m(fips, values, scope, binning_endpoints, colorscale, order, simplify_county, simplify_state, asp, show_hover, show_state_data, state_outline, county_outline, centroid_marker, round_legend_values, exponent_format, legend_title, **layout_options)\u001b[0m\n\u001b[1;32m    564\u001b[0m     \u001b[0;32mif\u001b[0m \u001b[0;32mnot\u001b[0m \u001b[0mgp\u001b[0m \u001b[0;32mor\u001b[0m \u001b[0;32mnot\u001b[0m \u001b[0mshapefile\u001b[0m \u001b[0;32mor\u001b[0m \u001b[0;32mnot\u001b[0m \u001b[0mshapely\u001b[0m\u001b[0;34m:\u001b[0m\u001b[0;34m\u001b[0m\u001b[0;34m\u001b[0m\u001b[0m\n\u001b[1;32m    565\u001b[0m         raise ImportError(\n\u001b[0;32m--> 566\u001b[0;31m             \u001b[0;34m\"geopandas, pyshp and shapely must be installed for this figure \"\u001b[0m\u001b[0;34m\u001b[0m\u001b[0;34m\u001b[0m\u001b[0m\n\u001b[0m\u001b[1;32m    567\u001b[0m             \u001b[0;34m\"factory.\\n\\nRun the following commands to install the correct \"\u001b[0m\u001b[0;34m\u001b[0m\u001b[0;34m\u001b[0m\u001b[0m\n\u001b[1;32m    568\u001b[0m             \u001b[0;34m\"versions of the following modules:\\n\\n\"\u001b[0m\u001b[0;34m\u001b[0m\u001b[0;34m\u001b[0m\u001b[0m\n",
      "\u001b[0;31mImportError\u001b[0m: geopandas, pyshp and shapely must be installed for this figure factory.\n\nRun the following commands to install the correct versions of the following modules:\n\n```\npip install geopandas==0.3.0\npip install pyshp==1.2.10\npip install shapely==1.6.3\n```\nIf you are using Windows, follow this post to properly install geopandas and dependencies:http://geoffboeing.com/2014/09/using-geopandas-windows/\n\nIf you are using Anaconda, do not use PIP to install the packages above. Instead use conda to install them:\n\n```\nconda install plotly\nconda install geopandas\n```"
     ]
    }
   ],
   "source": [
    "import plotly.plotly as py\n",
    "import plotly.figure_factory as ff\n",
    "\n",
    "fips = ['06021', '06023', '06027',\n",
    "        '06029', '06033', '06059',\n",
    "        '06047', '06049', '06051',\n",
    "        '06055', '06061']\n",
    "values = range(len(fips))\n",
    "\n",
    "fig = ff.create_choropleth(fips=fips, values=values)\n",
    "py.iplot(fig, filename='choropleth of some cali counties - full usa scope')"
   ]
  },
  {
   "cell_type": "code",
   "execution_count": 20,
   "metadata": {},
   "outputs": [
    {
     "ename": "ImportError",
     "evalue": "dlopen(/Users/lovejoy/anaconda3/lib/python3.6/site-packages/fiona/ogrext.cpython-36m-darwin.so, 2): Library not loaded: @rpath/libssl.1.0.0.dylib\n  Referenced from: /Users/lovejoy/anaconda3/lib/libgdal.20.dylib\n  Reason: image not found",
     "output_type": "error",
     "traceback": [
      "\u001b[0;31m---------------------------------------------------------------------------\u001b[0m",
      "\u001b[0;31mImportError\u001b[0m                               Traceback (most recent call last)",
      "\u001b[0;32m<ipython-input-20-7be218919179>\u001b[0m in \u001b[0;36m<module>\u001b[0;34m()\u001b[0m\n\u001b[0;32m----> 1\u001b[0;31m \u001b[0;32mimport\u001b[0m \u001b[0mgeopandas\u001b[0m\u001b[0;34m\u001b[0m\u001b[0;34m\u001b[0m\u001b[0m\n\u001b[0m\u001b[1;32m      2\u001b[0m \u001b[0mgeopandas\u001b[0m\u001b[0;34m.\u001b[0m\u001b[0m__version\u001b[0m\u001b[0;34m\u001b[0m\u001b[0;34m\u001b[0m\u001b[0m\n",
      "\u001b[0;32m~/anaconda3/lib/python3.6/site-packages/geopandas/__init__.py\u001b[0m in \u001b[0;36m<module>\u001b[0;34m()\u001b[0m\n\u001b[1;32m      2\u001b[0m \u001b[0;32mfrom\u001b[0m \u001b[0mgeopandas\u001b[0m\u001b[0;34m.\u001b[0m\u001b[0mgeodataframe\u001b[0m \u001b[0;32mimport\u001b[0m \u001b[0mGeoDataFrame\u001b[0m\u001b[0;34m\u001b[0m\u001b[0;34m\u001b[0m\u001b[0m\n\u001b[1;32m      3\u001b[0m \u001b[0;34m\u001b[0m\u001b[0m\n\u001b[0;32m----> 4\u001b[0;31m \u001b[0;32mfrom\u001b[0m \u001b[0mgeopandas\u001b[0m\u001b[0;34m.\u001b[0m\u001b[0mio\u001b[0m\u001b[0;34m.\u001b[0m\u001b[0mfile\u001b[0m \u001b[0;32mimport\u001b[0m \u001b[0mread_file\u001b[0m\u001b[0;34m\u001b[0m\u001b[0;34m\u001b[0m\u001b[0m\n\u001b[0m\u001b[1;32m      5\u001b[0m \u001b[0;32mfrom\u001b[0m \u001b[0mgeopandas\u001b[0m\u001b[0;34m.\u001b[0m\u001b[0mio\u001b[0m\u001b[0;34m.\u001b[0m\u001b[0msql\u001b[0m \u001b[0;32mimport\u001b[0m \u001b[0mread_postgis\u001b[0m\u001b[0;34m\u001b[0m\u001b[0;34m\u001b[0m\u001b[0m\n\u001b[1;32m      6\u001b[0m \u001b[0;32mfrom\u001b[0m \u001b[0mgeopandas\u001b[0m\u001b[0;34m.\u001b[0m\u001b[0mtools\u001b[0m \u001b[0;32mimport\u001b[0m \u001b[0msjoin\u001b[0m\u001b[0;34m\u001b[0m\u001b[0;34m\u001b[0m\u001b[0m\n",
      "\u001b[0;32m~/anaconda3/lib/python3.6/site-packages/geopandas/io/file.py\u001b[0m in \u001b[0;36m<module>\u001b[0;34m()\u001b[0m\n\u001b[1;32m      1\u001b[0m \u001b[0;32mimport\u001b[0m \u001b[0mos\u001b[0m\u001b[0;34m\u001b[0m\u001b[0;34m\u001b[0m\u001b[0m\n\u001b[1;32m      2\u001b[0m \u001b[0;34m\u001b[0m\u001b[0m\n\u001b[0;32m----> 3\u001b[0;31m \u001b[0;32mimport\u001b[0m \u001b[0mfiona\u001b[0m\u001b[0;34m\u001b[0m\u001b[0;34m\u001b[0m\u001b[0m\n\u001b[0m\u001b[1;32m      4\u001b[0m \u001b[0;32mimport\u001b[0m \u001b[0mnumpy\u001b[0m \u001b[0;32mas\u001b[0m \u001b[0mnp\u001b[0m\u001b[0;34m\u001b[0m\u001b[0;34m\u001b[0m\u001b[0m\n\u001b[1;32m      5\u001b[0m \u001b[0;32mimport\u001b[0m \u001b[0msix\u001b[0m\u001b[0;34m\u001b[0m\u001b[0;34m\u001b[0m\u001b[0m\n",
      "\u001b[0;32m~/anaconda3/lib/python3.6/site-packages/fiona/__init__.py\u001b[0m in \u001b[0;36m<module>\u001b[0;34m()\u001b[0m\n\u001b[1;32m     67\u001b[0m \u001b[0;32mfrom\u001b[0m \u001b[0msix\u001b[0m \u001b[0;32mimport\u001b[0m \u001b[0mstring_types\u001b[0m\u001b[0;34m\u001b[0m\u001b[0;34m\u001b[0m\u001b[0m\n\u001b[1;32m     68\u001b[0m \u001b[0;34m\u001b[0m\u001b[0m\n\u001b[0;32m---> 69\u001b[0;31m \u001b[0;32mfrom\u001b[0m \u001b[0mfiona\u001b[0m\u001b[0;34m.\u001b[0m\u001b[0mcollection\u001b[0m \u001b[0;32mimport\u001b[0m \u001b[0mCollection\u001b[0m\u001b[0;34m,\u001b[0m \u001b[0mBytesCollection\u001b[0m\u001b[0;34m,\u001b[0m \u001b[0mvsi_path\u001b[0m\u001b[0;34m\u001b[0m\u001b[0;34m\u001b[0m\u001b[0m\n\u001b[0m\u001b[1;32m     70\u001b[0m \u001b[0;32mfrom\u001b[0m \u001b[0mfiona\u001b[0m\u001b[0;34m.\u001b[0m\u001b[0m_drivers\u001b[0m \u001b[0;32mimport\u001b[0m \u001b[0mdriver_count\u001b[0m\u001b[0;34m,\u001b[0m \u001b[0mGDALEnv\u001b[0m\u001b[0;34m\u001b[0m\u001b[0;34m\u001b[0m\u001b[0m\n\u001b[1;32m     71\u001b[0m \u001b[0;32mfrom\u001b[0m \u001b[0mfiona\u001b[0m\u001b[0;34m.\u001b[0m\u001b[0mdrvsupport\u001b[0m \u001b[0;32mimport\u001b[0m \u001b[0msupported_drivers\u001b[0m\u001b[0;34m\u001b[0m\u001b[0;34m\u001b[0m\u001b[0m\n",
      "\u001b[0;32m~/anaconda3/lib/python3.6/site-packages/fiona/collection.py\u001b[0m in \u001b[0;36m<module>\u001b[0;34m()\u001b[0m\n\u001b[1;32m      7\u001b[0m \u001b[0;34m\u001b[0m\u001b[0m\n\u001b[1;32m      8\u001b[0m \u001b[0;32mfrom\u001b[0m \u001b[0mfiona\u001b[0m \u001b[0;32mimport\u001b[0m \u001b[0mcompat\u001b[0m\u001b[0;34m\u001b[0m\u001b[0;34m\u001b[0m\u001b[0m\n\u001b[0;32m----> 9\u001b[0;31m \u001b[0;32mfrom\u001b[0m \u001b[0mfiona\u001b[0m\u001b[0;34m.\u001b[0m\u001b[0mogrext\u001b[0m \u001b[0;32mimport\u001b[0m \u001b[0mIterator\u001b[0m\u001b[0;34m,\u001b[0m \u001b[0mItemsIterator\u001b[0m\u001b[0;34m,\u001b[0m \u001b[0mKeysIterator\u001b[0m\u001b[0;34m\u001b[0m\u001b[0;34m\u001b[0m\u001b[0m\n\u001b[0m\u001b[1;32m     10\u001b[0m \u001b[0;32mfrom\u001b[0m \u001b[0mfiona\u001b[0m\u001b[0;34m.\u001b[0m\u001b[0mogrext\u001b[0m \u001b[0;32mimport\u001b[0m \u001b[0mSession\u001b[0m\u001b[0;34m,\u001b[0m \u001b[0mWritingSession\u001b[0m\u001b[0;34m\u001b[0m\u001b[0;34m\u001b[0m\u001b[0m\n\u001b[1;32m     11\u001b[0m from fiona.ogrext import (\n",
      "\u001b[0;31mImportError\u001b[0m: dlopen(/Users/lovejoy/anaconda3/lib/python3.6/site-packages/fiona/ogrext.cpython-36m-darwin.so, 2): Library not loaded: @rpath/libssl.1.0.0.dylib\n  Referenced from: /Users/lovejoy/anaconda3/lib/libgdal.20.dylib\n  Reason: image not found"
     ]
    }
   ],
   "source": [
    "import geopandas\n",
    "geopandas.__version"
   ]
  },
  {
   "cell_type": "code",
   "execution_count": null,
   "metadata": {
    "collapsed": true
   },
   "outputs": [],
   "source": []
  }
 ],
 "metadata": {
  "kernelspec": {
   "display_name": "Python 3",
   "language": "python",
   "name": "python3"
  },
  "language_info": {
   "codemirror_mode": {
    "name": "ipython",
    "version": 3
   },
   "file_extension": ".py",
   "mimetype": "text/x-python",
   "name": "python",
   "nbconvert_exporter": "python",
   "pygments_lexer": "ipython3",
   "version": "3.6.8"
  }
 },
 "nbformat": 4,
 "nbformat_minor": 2
}
